{
  "nbformat": 4,
  "nbformat_minor": 0,
  "metadata": {
    "colab": {
      "name": "Stable_Diffusion_AI_Notebook.ipynb",
      "provenance": [],
      "collapsed_sections": [],
      "private_outputs": true
    },
    "kernelspec": {
      "name": "python3",
      "display_name": "Python 3"
    },
    "language_info": {
      "name": "python"
    },
    "accelerator": "GPU",
    "gpuClass": "standard"
  },
  "cells": [
    {
      "cell_type": "code",
      "source": [
        "#@title 1. Check current GPU assigned\n",
        "!nvidia-smi -L\n",
        "!nvidia-smi"
      ],
      "metadata": {
        "cellView": "form",
        "id": "a2Z5Qu_o8VtQ"
      },
      "execution_count": null,
      "outputs": []
    },
    {
      "cell_type": "code",
      "execution_count": null,
      "metadata": {
        "id": "vbI9ZsQHzjqF"
      },
      "outputs": [],
      "source": [
        "#@title 2. Download stable-diffusion Repository\n",
        "from os.path import exists\n",
        "\n",
        "if exists(\"/content/stable-diffusion/\")==True:\n",
        "  print(\"Already downloaded repo\")\n",
        "else:\n",
        "  !git clone --quiet https://github.com/kylejmorris/stable-diffusion-textual-inversion # Original repo\n",
        "  %mv stable-diffusion-textual-inversion stable-diffusion\n",
        "  %cd stable-diffusion/\n",
        "  !git checkout --quiet tags/release-1.09\n",
        "  "
      ]
    },
    {
      "cell_type": "code",
      "source": [
        "#@title 3. Install Python 3.8 \n",
        "%%capture --no-stderr\n",
        "import gc\n",
        "!apt-get -qq install python3.8\n",
        "gc.collect()"
      ],
      "metadata": {
        "id": "daHlozvwKesj"
      },
      "execution_count": null,
      "outputs": []
    },
    {
      "cell_type": "code",
      "source": [
        "#@title 4. Install dependencies from file in a VirtualEnv\n",
        "#@markdown Be patient, it takes ~ 5 - 7min <br>\n",
        "%%capture --no-stderr\n",
        "#Virtual environment\n",
        "!pip install pipenv -q\n",
        "!pip install colab-xterm\n",
        "%load_ext colabxterm\n",
        "!pipenv --python 3.8\n",
        "!pipenv install -r requirements.txt \n",
        "gc.collect()\n"
      ],
      "metadata": {
        "id": "QbXcGXYEFSNB"
      },
      "execution_count": null,
      "outputs": []
    },
    {
      "cell_type": "code",
      "source": [
        "#@title 5. Mount google Drive\n",
        "from google.colab import drive\n",
        "drive.mount('/content/drive')"
      ],
      "metadata": {
        "id": "YEWPV-sF1RDM"
      },
      "execution_count": null,
      "outputs": []
    },
    {
      "cell_type": "code",
      "source": [
        "#@title 6. Drive Path to model\n",
        "#@markdown Path should start with /content/drive/path-to-your-file <br>\n",
        "#@markdown <font color=\"red\">Note:</font> Model should be downloaded from https://huggingface.co <br>\n",
        "#@markdown Lastest release: [Stable-Diffusion-v-1-4](https://huggingface.co/CompVis/stable-diffusion-v-1-4-original)\n",
        "from os.path import exists\n",
        "\n",
        "model_path = \"/content/drive/MyDrive/AI/models/sd-v1-4.ckpt\" #@param {type:\"string\"}\n",
        "if exists(model_path)==True:\n",
        "  print(\"✅ Valid directory\")\n",
        "else: \n",
        "  print(\"❌ File doesn't exist\")"
      ],
      "metadata": {
        "id": "zRTJeZ461WGu"
      },
      "execution_count": null,
      "outputs": []
    },
    {
      "cell_type": "code",
      "source": [
        "#@title 7. Symlink to model\n",
        "\n",
        "from os.path import exists\n",
        "import os \n",
        "\n",
        "# Folder creation if it doesn't exist\n",
        "if exists(\"/content/stable-diffusion/models/ldm/stable-diffusion-v1\")==True:\n",
        "  print(\"❗ Dir stable-diffusion-v1 already exists\")\n",
        "else:\n",
        "  %mkdir /content/stable-diffusion/models/ldm/stable-diffusion-v1\n",
        "  print(\"✅ Dir stable-diffusion-v1 created\")\n",
        "\n",
        "# Symbolic link if it doesn't exist\n",
        "if exists(\"/content/stable-diffusion/models/ldm/stable-diffusion-v1/model.ckpt\")==True:\n",
        "  print(\"❗ Symlink already created\")\n",
        "else: \n",
        "  src = model_path\n",
        "  dst = '/content/stable-diffusion/models/ldm/stable-diffusion-v1/model.ckpt'\n",
        "  os.symlink(src, dst) \n",
        "  print(\"✅ Symbolic link created successfully\")"
      ],
      "metadata": {
        "id": "UY-NNz4I8_aG"
      },
      "execution_count": null,
      "outputs": []
    },
    {
      "cell_type": "code",
      "source": [
        "#@title 8. Load small ML models required\n",
        "%%capture --no-stderr\n",
        "!pip install --ignore-installed Pillow==9.0.0\n",
        "!pipenv run scripts/preload_models.py\n",
        "gc.collect()"
      ],
      "metadata": {
        "id": "ChIDWxLVHGGJ"
      },
      "execution_count": null,
      "outputs": []
    },
    {
      "cell_type": "code",
      "source": [
        "#@title 9. Run Terminal and Execute Dream bot\n",
        "#@markdown <font color=\"blue\">Steps:</font> <br>\n",
        "#@markdown 1. Execute command `pipenv run scripts/dream.py` to run dream bot.<br>\n",
        "#@markdown 2. After initialized you'll see `Dream>` line.<br>\n",
        "#@markdown 3. Example text: `Astronaut floating in a distant galaxy` <br>\n",
        "#@markdown 4. To quit Dream bot use: `q` command.<br>\n",
        "\n",
        "#Run from virtual env\n",
        "\n",
        "%xterm\n",
        "gc.collect()"
      ],
      "metadata": {
        "id": "ir4hCrMIuUpl"
      },
      "execution_count": null,
      "outputs": []
    },
    {
      "cell_type": "code",
      "source": [
        "#@title 10. Show generated images\n",
        "\n",
        "import glob\n",
        "import matplotlib.pyplot as plt\n",
        "import matplotlib.image as mpimg\n",
        "%matplotlib inline\n",
        "\n",
        "images = []\n",
        "for img_path in glob.glob('/content/stable-diffusion/outputs/img-samples/*.png'):\n",
        "    images.append(mpimg.imread(img_path))\n",
        "\n",
        "# Remove ticks and labels on x-axis and y-axis both\n",
        "\n",
        "plt.figure(figsize=(20,10))\n",
        "\n",
        "columns = 5\n",
        "for i, image in enumerate(images):\n",
        "    ax = plt.subplot(len(images) / columns + 1, columns, i + 1)\n",
        "    ax.axes.xaxis.set_visible(False)\n",
        "    ax.axes.yaxis.set_visible(False)\n",
        "    ax.axis('off')\n",
        "    plt.imshow(image)\n",
        "    gc.collect()\n",
        "\n"
      ],
      "metadata": {
        "id": "qnLohSHmKoGk"
      },
      "execution_count": null,
      "outputs": []
    },
    {
      "cell_type": "code",
      "source": [
        "#@title 11. Fine-tune on an object\n",
        "%mkdir training_data\n",
        "!pip install Pillow==9.0.0\n",
        "!pwd\n",
        "#@title 12. download 3-5 jpg images to train with\n",
        "# resize images\n",
        "from PIL import Image\n",
        "import glob\n",
        "\n",
        "size = (512, 512)\n",
        "\n",
        "# get all the files in a folder, make sure all are image files\n",
        "files = glob.glob('drive/MyDrive/AI/data/raw/*')\n",
        "print(len(files))\n",
        "for fil in files:\n",
        "    # implement file type checking here if required\n",
        "    # get the basename, e.g. \"dragon.jpg\" -> (\"dragon\", \".jpg\")\n",
        "    basename = os.path.splitext(os.path.basename(fil))[0]\n",
        "    print(\"base name: {0}\".format(basename))\n",
        "    with Image.open(fil) as img:\n",
        "        # resize the image to 512 x 512\n",
        "        img = img.resize(size)\n",
        "\n",
        "        # save the resized image, modify the resample method if required, modify the output directory as well\n",
        "        img.save(f\"drive/MyDrive/AI/data/resized/{basename}.png\", format=\"PNG\", resample=Image.NEAREST)\n",
        "\n",
        "print(\"Resized {0} images\".format(len(files)))\n"
      ],
      "metadata": {
        "id": "9zCVnmYqsBed"
      },
      "execution_count": null,
      "outputs": []
    },
    {
      "cell_type": "code",
      "source": [
        "!pip install pytorch_lightning\n",
        "!pip install omegaconf\n",
        "!pip install einops\n",
        "!pip install taming-transformers"
      ],
      "metadata": {
        "id": "l9vV4U8FtWox"
      },
      "execution_count": null,
      "outputs": []
    },
    {
      "cell_type": "code",
      "source": [
        "#@title 13. Training\n",
        "!cd \n",
        "!python stable-diffusion/main.py --base stable-diffusion/configs/stable-diffusion/v1-finetune.yaml -t --actual_resume stable-diffusion/models/ldm/stable-diffusion-v1/model.ckpt -n my_key --gpus 0, --data_root /drive/MyDrive/AI/data/resized/"
      ],
      "metadata": {
        "id": "uufyal9usLzt"
      },
      "execution_count": null,
      "outputs": []
    }
  ]
}